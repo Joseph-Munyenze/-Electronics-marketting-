{
  "nbformat": 4,
  "nbformat_minor": 0,
  "metadata": {
    "colab": {
      "provenance": [],
      "authorship_tag": "ABX9TyMi5/CPSaSBTGw1UuoL8j2I",
      "include_colab_link": true
    },
    "kernelspec": {
      "name": "python3",
      "display_name": "Python 3"
    },
    "language_info": {
      "name": "python"
    }
  },
  "cells": [
    {
      "cell_type": "markdown",
      "metadata": {
        "id": "view-in-github",
        "colab_type": "text"
      },
      "source": [
        "<a href=\"https://colab.research.google.com/github/Joseph-Munyenze/-Electronics-marketting-/blob/main/DCG_2_2.ipynb\" target=\"_parent\"><img src=\"https://colab.research.google.com/assets/colab-badge.svg\" alt=\"Open In Colab\"/></a>"
      ]
    },
    {
      "cell_type": "markdown",
      "source": [
        "PYTHON COLLECTION\n",
        "Python collection consists of the  structured data containers which are used to store variables\n",
        "Examples of the python collection are\n",
        "\n",
        "1.   List\n",
        "2.   Tuple\n",
        "3.   Arrays\n",
        "4.   Dictonaries"
      ],
      "metadata": {
        "id": "Xn2cBjFRwS7j"
      }
    },
    {
      "cell_type": "code",
      "source": [
        "#List\n",
        "fruits=[\"apple\",\"banana\",\"cherry\"]\n",
        "print(fruits)"
      ],
      "metadata": {
        "colab": {
          "base_uri": "https://localhost:8080/"
        },
        "id": "C1pti47nwUKD",
        "outputId": "3c2fe828-4fb0-47cf-ec05-2448b52a9853"
      },
      "execution_count": null,
      "outputs": [
        {
          "output_type": "stream",
          "name": "stdout",
          "text": [
            "['apple', 'banana', 'cherry']\n"
          ]
        }
      ]
    },
    {
      "cell_type": "code",
      "source": [
        "# prompt: write dictionart exampls\n",
        "\n",
        "# Dictionaries\n",
        "# Dictionaries are used to store data values in key:value pairs.\n",
        "# A dictionary is a collection which is ordered*, changeable and do not allow duplicates.\n",
        "\n",
        "# Create and print a dictionary:\n",
        "thisdict = {\n",
        "  \"brand\": \"Ford\",\n",
        "  \"model\": \"Mustang\",\n",
        "  \"year\": 1964\n",
        "}\n",
        "print(thisdict)\n",
        "\n",
        "# Accessing Items\n",
        "# You can access the items of a dictionary by referring to its key name, inside square brackets:\n",
        "x = thisdict[\"model\"]\n",
        "print(x)\n",
        "\n",
        "# There is also a method called get() that will give you the same result:\n",
        "x = thisdict.get(\"model\")\n",
        "print(x)\n",
        "\n",
        "# Change Values\n",
        "# You can change the value of a specific item by referring to its key name:\n",
        "thisdict[\"year\"] = 2018\n",
        "print(thisdict)\n",
        "\n",
        "\n",
        "# Loop Through a Dictionary\n",
        "# You can loop through a dictionary by using a for loop.\n",
        "# When looping through a dictionary, the return value are the keys of the dictionary, but there are methods to return the values as well.\n",
        "\n",
        "# Print all key names in the dictionary, one by one:\n",
        "for x in thisdict:\n",
        "  print(x)\n",
        "\n",
        "# Print all values in the dictionary, one by one:\n",
        "for x in thisdict:\n",
        "  print(thisdict[x])\n",
        "\n",
        "# You can also use the values() method to return values of a dictionary:\n",
        "for x in thisdict.values():\n",
        "  print(x)\n",
        "\n",
        "# Loop through both keys and values, by using the items() method:\n",
        "for x, y in thisdict.items():\n",
        "  print(x, y)\n",
        "\n",
        "\n",
        "# Check if Key Exists\n",
        "# To determine if a specified key is present in a dictionary use the in keyword:\n",
        "if \"model\" in thisdict:\n",
        "  print(\"Yes, 'model' is one of the keys in the thisdict dictionary\")\n",
        "\n",
        "\n",
        "# Dictionary Length\n",
        "# To determine how many items (key-value pairs) a dictionary has, use the len() method.\n",
        "print(len(thisdict))\n",
        "\n",
        "\n",
        "# Adding Items\n",
        "# Adding an item to the dictionary is done by using a new index key and assigning a value to it:\n",
        "thisdict[\"color\"] = \"red\"\n",
        "print(thisdict)\n",
        "\n",
        "# Removing Items\n",
        "# There are several methods to remove items from a dictionary:\n",
        "# The pop() method removes the item with the specified key name:\n",
        "thisdict.pop(\"model\")\n",
        "print(thisdict)\n",
        "\n",
        "# The popitem() method removes the last inserted item (in versions before 3.7, a random item is removed instead):\n",
        "thisdict.popitem()\n",
        "print(thisdict)\n",
        "\n",
        "# The del keyword removes the item with the specified key name:\n",
        "del thisdict[\"year\"]\n",
        "print(thisdict)\n",
        "\n",
        "# The del keyword can also delete the dictionary completely:\n",
        "# del thisdict\n",
        "# print(thisdict) #this will cause an error because \"thisdict\" no longer exists.\n",
        "\n",
        "\n",
        "# The clear() method empties the dictionary:\n",
        "thisdict.clear()\n",
        "print(thisdict)\n",
        "\n",
        "\n",
        "# Copy a Dictionary\n",
        "# You cannot copy a dictionary simply by typing dict2 = dict1, because: dict2 will only be a reference to dict1, and changes made in dict1 will automatically also be made in dict2.\n",
        "\n",
        "# There are ways to make a copy, one way is to use the built-in Dictionary method copy().\n",
        "mydict = thisdict.copy()\n",
        "print(mydict)\n",
        "\n",
        "# Another way to make a copy is to use the built-in function dict().\n",
        "mydict = dict(thisdict)\n",
        "print(mydict)\n",
        "\n",
        "# Nested Dictionaries\n",
        "# A dictionary can contain dictionaries, this is called nested dictionaries.\n",
        "myfamily = {\n",
        "  \"child1\" : {\n",
        "    \"name\" : \"Emil\",\n",
        "    \"year\" : 2004\n",
        "  },\n",
        "  \"child2\" : {\n",
        "    \"name\" : \"Tobias\",\n",
        "    \"year\" : 2007\n",
        "  },\n",
        "  \"child3\" : {\n",
        "    \"name\" : \"Linus\",\n",
        "    \"year\" : 2011\n",
        "  }\n",
        "}\n",
        "\n",
        "print(myfamily)\n",
        "\n",
        "# Or, if you want to add three dictionaries into a new dictionary:\n",
        "child1 = {\n",
        "  \"name\" : \"Emil\",\n",
        "  \"year\" : 2004\n",
        "}\n",
        "child2 = {\n",
        "  \"name\" : \"Tobias\",\n",
        "  \"year\" : 2007\n",
        "}\n",
        "child3 = {\n",
        "  \"name\" : \"Linus\",\n",
        "  \"year\" : 2011\n",
        "}\n",
        "\n",
        "myfamily = {\n",
        "  \"child1\" : child1,\n",
        "  \"child2\" : child2,\n",
        "  \"child3\" : child3\n",
        "}\n",
        "\n",
        "myfamily\n"
      ],
      "metadata": {
        "colab": {
          "base_uri": "https://localhost:8080/"
        },
        "id": "43-NmjOKTl-b",
        "outputId": "f30f0925-270b-4518-d533-eedd300d84b5"
      },
      "execution_count": null,
      "outputs": [
        {
          "output_type": "stream",
          "name": "stdout",
          "text": [
            "{'brand': 'Ford', 'model': 'Mustang', 'year': 1964}\n",
            "Mustang\n",
            "Mustang\n",
            "{'brand': 'Ford', 'model': 'Mustang', 'year': 2018}\n",
            "brand\n",
            "model\n",
            "year\n",
            "Ford\n",
            "Mustang\n",
            "2018\n",
            "Ford\n",
            "Mustang\n",
            "2018\n",
            "brand Ford\n",
            "model Mustang\n",
            "year 2018\n",
            "Yes, 'model' is one of the keys in the thisdict dictionary\n",
            "3\n",
            "{'brand': 'Ford', 'model': 'Mustang', 'year': 2018, 'color': 'red'}\n",
            "{'brand': 'Ford', 'year': 2018, 'color': 'red'}\n",
            "{'brand': 'Ford', 'year': 2018}\n",
            "{'brand': 'Ford'}\n",
            "{}\n",
            "{}\n",
            "{}\n",
            "{'child1': {'name': 'Emil', 'year': 2004}, 'child2': {'name': 'Tobias', 'year': 2007}, 'child3': {'name': 'Linus', 'year': 2011}}\n"
          ]
        },
        {
          "output_type": "execute_result",
          "data": {
            "text/plain": [
              "{'child1': {'name': 'Emil', 'year': 2004},\n",
              " 'child2': {'name': 'Tobias', 'year': 2007},\n",
              " 'child3': {'name': 'Linus', 'year': 2011}}"
            ]
          },
          "metadata": {},
          "execution_count": 1
        }
      ]
    },
    {
      "cell_type": "code",
      "source": [
        "# prompt: please make an example also of the tuplr\n",
        "\n",
        "# Tuple\n",
        "# Tuples are used to store multiple items in a single variable.\n",
        "# Tuple items are ordered, unchangeable, and allow duplicate values.\n",
        "# Tuple items are indexed, the first item has index [0], the second item has index [1] etc.\n",
        "\n",
        "# Create a Tuple:\n",
        "thistuple = (\"apple\", \"banana\", \"cherry\")\n",
        "print(thistuple)\n",
        "\n",
        "# Access Tuple Items\n",
        "# You can access tuple items by referring to the index number, inside square brackets:\n",
        "print(thistuple[1])\n",
        "\n",
        "# Negative Indexing\n",
        "# Negative indexing means beginning from the end, -1 refers to the last item, -2 refers to the second last item etc.\n",
        "print(thistuple[-1])\n",
        "\n",
        "\n",
        "# Range of Indexes\n",
        "# You can specify a range of indexes by specifying where to start and where to end the range.\n",
        "# When specifying a range, the return value will be a new tuple with the specified items.\n",
        "thistuple = (\"apple\", \"banana\", \"cherry\", \"orange\", \"kiwi\", \"melon\", \"mango\")\n",
        "print(thistuple[2:5])\n",
        "\n",
        "# This example returns the items from the beginning to, but NOT included, \"kiwi\":\n",
        "print(thistuple[:4])\n",
        "\n",
        "# This example returns the items from \"cherry\" and to the end:\n",
        "print(thistuple[2:])\n",
        "\n",
        "# Range of Negative Indexes\n",
        "# Specify negative indexes if you want to start the search from the end of the tuple:\n",
        "print(thistuple[-4:-1])\n",
        "\n",
        "\n",
        "# Change Tuple Values\n",
        "# Once a tuple is created, you cannot change its values. Tuples are unchangeable, or immutable as it also is called.\n",
        "# But there is a workaround. You can convert the tuple into a list, change the list, and convert the list back into a tuple.\n",
        "x = (\"apple\", \"banana\", \"cherry\")\n",
        "y = list(x)\n",
        "y[1] = \"kiwi\"\n",
        "x = tuple(y)\n",
        "\n",
        "print(x)\n",
        "\n",
        "# Loop Through a Tuple\n",
        "# You can loop through the tuple items by using a for loop.\n",
        "thistuple = (\"apple\", \"banana\", \"cherry\")\n",
        "for x in thistuple:\n",
        "  print(x)\n",
        "\n",
        "# Check if Item Exists\n",
        "# To determine if a specified item is present in a tuple use the in keyword:\n",
        "thistuple = (\"apple\", \"banana\", \"cherry\")\n",
        "if \"apple\" in thistuple:\n",
        "  print(\"Yes, 'apple' is in the fruits tuple\")\n",
        "\n",
        "\n",
        "# Tuple Length\n",
        "# To determine how many items a tuple has, use the len() method:\n",
        "thistuple = (\"apple\", \"banana\", \"cherry\")\n",
        "print(len(thistuple))\n",
        "\n",
        "\n",
        "# Add Items\n",
        "# Once a tuple is created, you cannot add items to it. Tuples are unchangeable.\n",
        "\n",
        "\n",
        "# Create Tuple With One Item\n",
        "# To create a tuple with only one item, you have to add a comma after the item, otherwise Python will not recognize it as a tuple.\n",
        "thistuple = (\"apple\",)\n",
        "print(type(thistuple))\n",
        "\n",
        "#NOT a tuple\n",
        "thistuple = (\"apple\")\n",
        "print(type(thistuple))\n",
        "\n",
        "\n",
        "# Remove Items\n",
        "# Tuples are unchangeable, so you cannot remove items from it, but you can delete the tuple completely:\n",
        "# The del keyword can delete the tuple completely:\n",
        "thistuple = (\"apple\", \"banana\", \"cherry\")\n",
        "del thistuple\n",
        "#print(thistuple) #this will raise an error because the tuple no longer exists\n",
        "\n",
        "\n",
        "# Join Two Tuples\n",
        "# To join two or more tuples you can use the + operator:\n",
        "tuple1 = (\"a\", \"b\" , \"c\")\n",
        "tuple2 = (1, 2, 3)\n",
        "\n",
        "tuple3 = tuple1 + tuple2\n",
        "print(tuple3)\n",
        "\n",
        "\n",
        "# The tuple() Constructor\n",
        "# It is also possible to use the tuple() constructor to make a tuple.\n",
        "thistuple = tuple((\"apple\", \"banana\", \"cherry\")) # note the double round-brackets\n",
        "thistuple"
      ],
      "metadata": {
        "id": "CSyG5vi6Tddb",
        "colab": {
          "base_uri": "https://localhost:8080/"
        },
        "outputId": "95bb569a-3a84-430a-edf0-baee424addb9"
      },
      "execution_count": null,
      "outputs": [
        {
          "output_type": "stream",
          "name": "stdout",
          "text": [
            "('apple', 'banana', 'cherry')\n",
            "banana\n",
            "cherry\n",
            "('cherry', 'orange', 'kiwi')\n",
            "('apple', 'banana', 'cherry', 'orange')\n",
            "('cherry', 'orange', 'kiwi', 'melon', 'mango')\n",
            "('orange', 'kiwi', 'melon')\n",
            "('apple', 'kiwi', 'cherry')\n",
            "apple\n",
            "banana\n",
            "cherry\n",
            "Yes, 'apple' is in the fruits tuple\n",
            "3\n",
            "<class 'tuple'>\n",
            "<class 'str'>\n",
            "('a', 'b', 'c', 1, 2, 3)\n"
          ]
        },
        {
          "output_type": "execute_result",
          "data": {
            "text/plain": [
              "('apple', 'banana', 'cherry')"
            ]
          },
          "metadata": {},
          "execution_count": 1
        }
      ]
    },
    {
      "cell_type": "code",
      "source": [
        "# prompt: create for arrays\n",
        "\n",
        "# Arrays in Python\n",
        "# Python does not have built-in support for arrays, but Python Lists can be used instead.\n",
        "# However, to work with arrays, you will have to import a library, like the NumPy library.\n",
        "\n",
        "import numpy as np\n",
        "\n",
        "# Create an array\n",
        "arr = np.array([1, 2, 3, 4, 5])\n",
        "\n",
        "print(arr)\n",
        "\n",
        "# Accessing elements in an array\n",
        "print(\"The first element of the array is: \", arr[0])\n",
        "print(\"The last element of the array is: \", arr[-1])\n",
        "\n",
        "# Array Slicing: Accessing a range of elements in an array\n",
        "print(arr[1:4])\n",
        "\n",
        "# Changing elements in an array\n",
        "arr[0] = 10\n",
        "print(arr)\n",
        "\n",
        "# Array properties\n",
        "print(arr.dtype)  # Data type of the elements\n",
        "print(arr.shape)  # Dimensions of the array\n",
        "\n",
        "# Multi-dimensional arrays\n",
        "arr_2d = np.array([[1, 2, 3], [4, 5, 6]])\n",
        "print(arr_2d)\n",
        "\n",
        "print(arr_2d.shape) # dimensions of the array\n",
        "print(arr_2d[0, 0]) #access element at row 0, column 0\n",
        "\n",
        "# Array operations\n",
        "arr1 = np.array([1, 2, 3])\n",
        "arr2 = np.array([4, 5, 6])\n",
        "\n",
        "print(arr1 + arr2)\n",
        "print(arr1 * arr2)\n",
        "\n",
        "\n",
        "# Array functions\n",
        "print(np.sum(arr))\n",
        "print(np.mean(arr))\n",
        "print(np.max(arr))\n",
        "print(np.min(arr))\n",
        "\n",
        "# Other array methods\n",
        "# append: adds an element to the end of the array\n",
        "# insert: inserts an element at a specific index\n",
        "# delete: removes an element from the array\n",
        "# sort: sorts the elements of the array\n",
        "\n",
        "# Example of append:\n",
        "my_array = np.array([1, 2, 3])\n",
        "my_array = np.append(my_array, 4)\n",
        "my_array"
      ],
      "metadata": {
        "colab": {
          "base_uri": "https://localhost:8080/"
        },
        "id": "qMfs5VzdGyOp",
        "outputId": "849cae44-1ae7-4920-be67-dca7ceb389ef"
      },
      "execution_count": null,
      "outputs": [
        {
          "output_type": "stream",
          "name": "stdout",
          "text": [
            "[1 2 3 4 5]\n",
            "The first element of the array is:  1\n",
            "The last element of the array is:  5\n",
            "[2 3 4]\n",
            "[10  2  3  4  5]\n",
            "int64\n",
            "(5,)\n",
            "[[1 2 3]\n",
            " [4 5 6]]\n",
            "(2, 3)\n",
            "1\n",
            "[5 7 9]\n",
            "[ 4 10 18]\n",
            "24\n",
            "4.8\n",
            "10\n",
            "2\n"
          ]
        },
        {
          "output_type": "execute_result",
          "data": {
            "text/plain": [
              "array([1, 2, 3, 4])"
            ]
          },
          "metadata": {},
          "execution_count": 1
        }
      ]
    },
    {
      "cell_type": "code",
      "source": [
        "# prompt: write a python class example\n",
        "\n",
        "import numpy as np\n",
        "\n",
        "class MyClass:\n",
        "    def __init__(self, name, age):\n",
        "        self.name = name\n",
        "        self.age = age\n",
        "\n",
        "    def greet(self):\n",
        "        print(f\"Hello, my name is {self.name} and I am {self.age} years old.\")\n",
        "\n",
        "# Example usage\n",
        "my_object = MyClass(\"Alice\", 30)\n",
        "my_object.greet()"
      ],
      "metadata": {
        "colab": {
          "base_uri": "https://localhost:8080/"
        },
        "id": "AcEK8YLsLDp4",
        "outputId": "9cf94ddc-3d39-47e3-a7c5-d7ae11312f7f"
      },
      "execution_count": 1,
      "outputs": [
        {
          "output_type": "stream",
          "name": "stdout",
          "text": [
            "Hello, my name is Alice and I am 30 years old.\n"
          ]
        }
      ]
    }
  ]
}