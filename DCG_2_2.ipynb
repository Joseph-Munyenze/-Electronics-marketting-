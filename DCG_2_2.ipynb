{
  "nbformat": 4,
  "nbformat_minor": 0,
  "metadata": {
    "colab": {
      "provenance": [],
      "authorship_tag": "ABX9TyNsO7LeifN2WFK4IHhszQfG",
      "include_colab_link": true
    },
    "kernelspec": {
      "name": "python3",
      "display_name": "Python 3"
    },
    "language_info": {
      "name": "python"
    }
  },
  "cells": [
    {
      "cell_type": "markdown",
      "metadata": {
        "id": "view-in-github",
        "colab_type": "text"
      },
      "source": [
        "<a href=\"https://colab.research.google.com/github/Joseph-Munyenze/-Electronics-marketting-/blob/main/DCG_2_2.ipynb\" target=\"_parent\"><img src=\"https://colab.research.google.com/assets/colab-badge.svg\" alt=\"Open In Colab\"/></a>"
      ]
    },
    {
      "cell_type": "markdown",
      "source": [
        "PYTHON COLLECTION\n",
        "Python collection consists of the  structured data containers which are used to store variables\n",
        "Examples of the python collection are\n",
        "\n",
        "1.   List\n",
        "2.   Tuple\n",
        "3.   Arrays\n",
        "4.   Dictonaries"
      ],
      "metadata": {
        "id": "Xn2cBjFRwS7j"
      }
    },
    {
      "cell_type": "code",
      "source": [
        "#List\n",
        "fruits=[\"apple\",\"banana\",\"cherry\"]\n",
        "print(fruits)"
      ],
      "metadata": {
        "colab": {
          "base_uri": "https://localhost:8080/"
        },
        "id": "C1pti47nwUKD",
        "outputId": "3c2fe828-4fb0-47cf-ec05-2448b52a9853"
      },
      "execution_count": 1,
      "outputs": [
        {
          "output_type": "stream",
          "name": "stdout",
          "text": [
            "['apple', 'banana', 'cherry']\n"
          ]
        }
      ]
    },
    {
      "cell_type": "code",
      "source": [
        "# prompt: write dictionart exampls\n",
        "\n",
        "# Dictionaries\n",
        "# Dictionaries are used to store data values in key:value pairs.\n",
        "# A dictionary is a collection which is ordered*, changeable and do not allow duplicates.\n",
        "\n",
        "# Create and print a dictionary:\n",
        "thisdict = {\n",
        "  \"brand\": \"Ford\",\n",
        "  \"model\": \"Mustang\",\n",
        "  \"year\": 1964\n",
        "}\n",
        "print(thisdict)\n",
        "\n",
        "# Accessing Items\n",
        "# You can access the items of a dictionary by referring to its key name, inside square brackets:\n",
        "x = thisdict[\"model\"]\n",
        "print(x)\n",
        "\n",
        "# There is also a method called get() that will give you the same result:\n",
        "x = thisdict.get(\"model\")\n",
        "print(x)\n",
        "\n",
        "# Change Values\n",
        "# You can change the value of a specific item by referring to its key name:\n",
        "thisdict[\"year\"] = 2018\n",
        "print(thisdict)\n",
        "\n",
        "\n",
        "# Loop Through a Dictionary\n",
        "# You can loop through a dictionary by using a for loop.\n",
        "# When looping through a dictionary, the return value are the keys of the dictionary, but there are methods to return the values as well.\n",
        "\n",
        "# Print all key names in the dictionary, one by one:\n",
        "for x in thisdict:\n",
        "  print(x)\n",
        "\n",
        "# Print all values in the dictionary, one by one:\n",
        "for x in thisdict:\n",
        "  print(thisdict[x])\n",
        "\n",
        "# You can also use the values() method to return values of a dictionary:\n",
        "for x in thisdict.values():\n",
        "  print(x)\n",
        "\n",
        "# Loop through both keys and values, by using the items() method:\n",
        "for x, y in thisdict.items():\n",
        "  print(x, y)\n",
        "\n",
        "\n",
        "# Check if Key Exists\n",
        "# To determine if a specified key is present in a dictionary use the in keyword:\n",
        "if \"model\" in thisdict:\n",
        "  print(\"Yes, 'model' is one of the keys in the thisdict dictionary\")\n",
        "\n",
        "\n",
        "# Dictionary Length\n",
        "# To determine how many items (key-value pairs) a dictionary has, use the len() method.\n",
        "print(len(thisdict))\n",
        "\n",
        "\n",
        "# Adding Items\n",
        "# Adding an item to the dictionary is done by using a new index key and assigning a value to it:\n",
        "thisdict[\"color\"] = \"red\"\n",
        "print(thisdict)\n",
        "\n",
        "# Removing Items\n",
        "# There are several methods to remove items from a dictionary:\n",
        "# The pop() method removes the item with the specified key name:\n",
        "thisdict.pop(\"model\")\n",
        "print(thisdict)\n",
        "\n",
        "# The popitem() method removes the last inserted item (in versions before 3.7, a random item is removed instead):\n",
        "thisdict.popitem()\n",
        "print(thisdict)\n",
        "\n",
        "# The del keyword removes the item with the specified key name:\n",
        "del thisdict[\"year\"]\n",
        "print(thisdict)\n",
        "\n",
        "# The del keyword can also delete the dictionary completely:\n",
        "# del thisdict\n",
        "# print(thisdict) #this will cause an error because \"thisdict\" no longer exists.\n",
        "\n",
        "\n",
        "# The clear() method empties the dictionary:\n",
        "thisdict.clear()\n",
        "print(thisdict)\n",
        "\n",
        "\n",
        "# Copy a Dictionary\n",
        "# You cannot copy a dictionary simply by typing dict2 = dict1, because: dict2 will only be a reference to dict1, and changes made in dict1 will automatically also be made in dict2.\n",
        "\n",
        "# There are ways to make a copy, one way is to use the built-in Dictionary method copy().\n",
        "mydict = thisdict.copy()\n",
        "print(mydict)\n",
        "\n",
        "# Another way to make a copy is to use the built-in function dict().\n",
        "mydict = dict(thisdict)\n",
        "print(mydict)\n",
        "\n",
        "# Nested Dictionaries\n",
        "# A dictionary can contain dictionaries, this is called nested dictionaries.\n",
        "myfamily = {\n",
        "  \"child1\" : {\n",
        "    \"name\" : \"Emil\",\n",
        "    \"year\" : 2004\n",
        "  },\n",
        "  \"child2\" : {\n",
        "    \"name\" : \"Tobias\",\n",
        "    \"year\" : 2007\n",
        "  },\n",
        "  \"child3\" : {\n",
        "    \"name\" : \"Linus\",\n",
        "    \"year\" : 2011\n",
        "  }\n",
        "}\n",
        "\n",
        "print(myfamily)\n",
        "\n",
        "# Or, if you want to add three dictionaries into a new dictionary:\n",
        "child1 = {\n",
        "  \"name\" : \"Emil\",\n",
        "  \"year\" : 2004\n",
        "}\n",
        "child2 = {\n",
        "  \"name\" : \"Tobias\",\n",
        "  \"year\" : 2007\n",
        "}\n",
        "child3 = {\n",
        "  \"name\" : \"Linus\",\n",
        "  \"year\" : 2011\n",
        "}\n",
        "\n",
        "myfamily = {\n",
        "  \"child1\" : child1,\n",
        "  \"child2\" : child2,\n",
        "  \"child3\" : child3\n",
        "}\n",
        "\n",
        "myfamily\n"
      ],
      "metadata": {
        "colab": {
          "base_uri": "https://localhost:8080/"
        },
        "id": "43-NmjOKTl-b",
        "outputId": "f30f0925-270b-4518-d533-eedd300d84b5"
      },
      "execution_count": 1,
      "outputs": [
        {
          "output_type": "stream",
          "name": "stdout",
          "text": [
            "{'brand': 'Ford', 'model': 'Mustang', 'year': 1964}\n",
            "Mustang\n",
            "Mustang\n",
            "{'brand': 'Ford', 'model': 'Mustang', 'year': 2018}\n",
            "brand\n",
            "model\n",
            "year\n",
            "Ford\n",
            "Mustang\n",
            "2018\n",
            "Ford\n",
            "Mustang\n",
            "2018\n",
            "brand Ford\n",
            "model Mustang\n",
            "year 2018\n",
            "Yes, 'model' is one of the keys in the thisdict dictionary\n",
            "3\n",
            "{'brand': 'Ford', 'model': 'Mustang', 'year': 2018, 'color': 'red'}\n",
            "{'brand': 'Ford', 'year': 2018, 'color': 'red'}\n",
            "{'brand': 'Ford', 'year': 2018}\n",
            "{'brand': 'Ford'}\n",
            "{}\n",
            "{}\n",
            "{}\n",
            "{'child1': {'name': 'Emil', 'year': 2004}, 'child2': {'name': 'Tobias', 'year': 2007}, 'child3': {'name': 'Linus', 'year': 2011}}\n"
          ]
        },
        {
          "output_type": "execute_result",
          "data": {
            "text/plain": [
              "{'child1': {'name': 'Emil', 'year': 2004},\n",
              " 'child2': {'name': 'Tobias', 'year': 2007},\n",
              " 'child3': {'name': 'Linus', 'year': 2011}}"
            ]
          },
          "metadata": {},
          "execution_count": 1
        }
      ]
    },
    {
      "cell_type": "code",
      "source": [],
      "metadata": {
        "id": "CSyG5vi6Tddb"
      },
      "execution_count": 1,
      "outputs": []
    }
  ]
}